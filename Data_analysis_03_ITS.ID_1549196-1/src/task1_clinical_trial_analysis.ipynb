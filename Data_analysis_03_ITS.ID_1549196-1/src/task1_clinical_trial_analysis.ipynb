{
 "cells": [
  {
   "cell_type": "markdown",
   "id": "97ce142d",
   "metadata": {},
   "source": [
    "# Анализ медицинских данных\n",
    "\n",
    "## Оглавление\n",
    "1. [Задание 1. Подготовка окружения и знакомство с данными](#Задание-1-Подготовка-окружения-и-знакомство-с-данными)\n",
    "2. [Задание 2. Визуальный анализ](#Задание-2-Визуальный-анализ)\n",
    "3. [Задание 3. Математическая статистика и проверка гипотезы](#Задание-3-Математическая-статистика-и-проверка-гипотезы)\n",
    "4. [Задание 4. Статистический анализ](#Задание-4-Статистический-анализ)"
   ]
  },
  {
   "cell_type": "code",
   "execution_count": 1,
   "id": "bdb6a2c5",
   "metadata": {},
   "outputs": [
    {
     "name": "stdout",
     "output_type": "stream",
     "text": [
      "Requirement already satisfied: seaborn in c:\\users\\huawei\\lib\\site-packages (0.13.2)\n",
      "Requirement already satisfied: numpy!=1.24.0,>=1.20 in c:\\users\\huawei\\lib\\site-packages (from seaborn) (2.2.4)\n",
      "Requirement already satisfied: pandas>=1.2 in c:\\users\\huawei\\lib\\site-packages (from seaborn) (2.2.3)\n",
      "Requirement already satisfied: matplotlib!=3.6.1,>=3.4 in c:\\users\\huawei\\lib\\site-packages (from seaborn) (3.10.3)\n",
      "Requirement already satisfied: contourpy>=1.0.1 in c:\\users\\huawei\\lib\\site-packages (from matplotlib!=3.6.1,>=3.4->seaborn) (1.3.2)\n",
      "Requirement already satisfied: cycler>=0.10 in c:\\users\\huawei\\lib\\site-packages (from matplotlib!=3.6.1,>=3.4->seaborn) (0.12.1)\n",
      "Requirement already satisfied: fonttools>=4.22.0 in c:\\users\\huawei\\lib\\site-packages (from matplotlib!=3.6.1,>=3.4->seaborn) (4.58.0)\n",
      "Requirement already satisfied: kiwisolver>=1.3.1 in c:\\users\\huawei\\lib\\site-packages (from matplotlib!=3.6.1,>=3.4->seaborn) (1.4.8)\n",
      "Requirement already satisfied: packaging>=20.0 in c:\\users\\huawei\\lib\\site-packages (from matplotlib!=3.6.1,>=3.4->seaborn) (25.0)\n",
      "Requirement already satisfied: pillow>=8 in c:\\users\\huawei\\lib\\site-packages (from matplotlib!=3.6.1,>=3.4->seaborn) (11.2.1)\n",
      "Requirement already satisfied: pyparsing>=2.3.1 in c:\\users\\huawei\\lib\\site-packages (from matplotlib!=3.6.1,>=3.4->seaborn) (3.2.3)\n",
      "Requirement already satisfied: python-dateutil>=2.7 in c:\\users\\huawei\\lib\\site-packages (from matplotlib!=3.6.1,>=3.4->seaborn) (2.9.0.post0)\n",
      "Requirement already satisfied: pytz>=2020.1 in c:\\users\\huawei\\lib\\site-packages (from pandas>=1.2->seaborn) (2025.2)\n",
      "Requirement already satisfied: tzdata>=2022.7 in c:\\users\\huawei\\lib\\site-packages (from pandas>=1.2->seaborn) (2025.2)\n",
      "Requirement already satisfied: six>=1.5 in c:\\users\\huawei\\lib\\site-packages (from python-dateutil>=2.7->matplotlib!=3.6.1,>=3.4->seaborn) (1.17.0)\n"
     ]
    }
   ],
   "source": [
    "! pip install seaborn"
   ]
  },
  {
   "cell_type": "code",
   "execution_count": 2,
   "id": "0a71fd20",
   "metadata": {},
   "outputs": [
    {
     "name": "stdout",
     "output_type": "stream",
     "text": [
      "Requirement already satisfied: scipy in c:\\users\\huawei\\appdata\\local\\programs\\python\\python312\\lib\\site-packages (1.15.3)\n",
      "Requirement already satisfied: numpy<2.5,>=1.23.5 in c:\\users\\huawei\\appdata\\local\\programs\\python\\python312\\lib\\site-packages (from scipy) (2.2.6)\n",
      "Note: you may need to restart the kernel to use updated packages.\n"
     ]
    },
    {
     "name": "stderr",
     "output_type": "stream",
     "text": [
      "\n",
      "[notice] A new release of pip is available: 23.2.1 -> 25.1.1\n",
      "[notice] To update, run: python.exe -m pip install --upgrade pip\n"
     ]
    }
   ],
   "source": [
    "pip install scipy"
   ]
  },
  {
   "cell_type": "markdown",
   "id": "d3020c59",
   "metadata": {},
   "source": [
    "## Задание 1. Подготовка окружения и знакомство с данными"
   ]
  },
  {
   "cell_type": "code",
   "execution_count": 3,
   "id": "8d385f41",
   "metadata": {},
   "outputs": [
    {
     "name": "stdout",
     "output_type": "stream",
     "text": [
      "Requirement already satisfied: numpy in c:\\users\\huawei\\lib\\site-packages (2.2.4)\n",
      "Requirement already satisfied: pandas in c:\\users\\huawei\\lib\\site-packages (2.2.3)\n",
      "Requirement already satisfied: matplotlib in c:\\users\\huawei\\lib\\site-packages (3.10.3)\n",
      "Requirement already satisfied: seaborn in c:\\users\\huawei\\lib\\site-packages (0.13.2)\n",
      "Requirement already satisfied: scipy in c:\\users\\huawei\\lib\\site-packages (1.15.3)\n",
      "Requirement already satisfied: statsmodels in c:\\users\\huawei\\lib\\site-packages (0.14.4)\n",
      "Requirement already satisfied: python-dateutil>=2.8.2 in c:\\users\\huawei\\lib\\site-packages (from pandas) (2.9.0.post0)\n",
      "Requirement already satisfied: pytz>=2020.1 in c:\\users\\huawei\\lib\\site-packages (from pandas) (2025.2)\n",
      "Requirement already satisfied: tzdata>=2022.7 in c:\\users\\huawei\\lib\\site-packages (from pandas) (2025.2)\n",
      "Requirement already satisfied: contourpy>=1.0.1 in c:\\users\\huawei\\lib\\site-packages (from matplotlib) (1.3.2)\n",
      "Requirement already satisfied: cycler>=0.10 in c:\\users\\huawei\\lib\\site-packages (from matplotlib) (0.12.1)\n",
      "Requirement already satisfied: fonttools>=4.22.0 in c:\\users\\huawei\\lib\\site-packages (from matplotlib) (4.58.0)\n",
      "Requirement already satisfied: kiwisolver>=1.3.1 in c:\\users\\huawei\\lib\\site-packages (from matplotlib) (1.4.8)\n",
      "Requirement already satisfied: packaging>=20.0 in c:\\users\\huawei\\lib\\site-packages (from matplotlib) (25.0)\n",
      "Requirement already satisfied: pillow>=8 in c:\\users\\huawei\\lib\\site-packages (from matplotlib) (11.2.1)\n",
      "Requirement already satisfied: pyparsing>=2.3.1 in c:\\users\\huawei\\lib\\site-packages (from matplotlib) (3.2.3)\n",
      "Requirement already satisfied: patsy>=0.5.6 in c:\\users\\huawei\\lib\\site-packages (from statsmodels) (1.0.1)\n",
      "Requirement already satisfied: six>=1.5 in c:\\users\\huawei\\lib\\site-packages (from python-dateutil>=2.8.2->pandas) (1.17.0)\n"
     ]
    }
   ],
   "source": [
    "! pip install numpy pandas matplotlib seaborn scipy statsmodels"
   ]
  },
  {
   "cell_type": "code",
   "execution_count": 4,
   "id": "d4c46bd7",
   "metadata": {},
   "outputs": [
    {
     "name": "stdout",
     "output_type": "stream",
     "text": [
      "<class 'pandas.core.frame.DataFrame'>\n",
      "RangeIndex: 200 entries, 0 to 199\n",
      "Data columns (total 3 columns):\n",
      " #   Column     Non-Null Count  Dtype  \n",
      "---  ------     --------------  -----  \n",
      " 0   PatientID  200 non-null    int64  \n",
      " 1   Group      200 non-null    object \n",
      " 2   Score      200 non-null    float64\n",
      "dtypes: float64(1), int64(1), object(1)\n",
      "memory usage: 4.8+ KB\n"
     ]
    },
    {
     "data": {
      "text/html": [
       "<div>\n",
       "<style scoped>\n",
       "    .dataframe tbody tr th:only-of-type {\n",
       "        vertical-align: middle;\n",
       "    }\n",
       "\n",
       "    .dataframe tbody tr th {\n",
       "        vertical-align: top;\n",
       "    }\n",
       "\n",
       "    .dataframe thead th {\n",
       "        text-align: right;\n",
       "    }\n",
       "</style>\n",
       "<table border=\"1\" class=\"dataframe\">\n",
       "  <thead>\n",
       "    <tr style=\"text-align: right;\">\n",
       "      <th></th>\n",
       "      <th>PatientID</th>\n",
       "      <th>Score</th>\n",
       "    </tr>\n",
       "  </thead>\n",
       "  <tbody>\n",
       "    <tr>\n",
       "      <th>count</th>\n",
       "      <td>200.000000</td>\n",
       "      <td>200.000000</td>\n",
       "    </tr>\n",
       "    <tr>\n",
       "      <th>mean</th>\n",
       "      <td>100.500000</td>\n",
       "      <td>65.267600</td>\n",
       "    </tr>\n",
       "    <tr>\n",
       "      <th>std</th>\n",
       "      <td>57.879185</td>\n",
       "      <td>11.088616</td>\n",
       "    </tr>\n",
       "    <tr>\n",
       "      <th>min</th>\n",
       "      <td>1.000000</td>\n",
       "      <td>39.748574</td>\n",
       "    </tr>\n",
       "    <tr>\n",
       "      <th>25%</th>\n",
       "      <td>50.750000</td>\n",
       "      <td>58.021821</td>\n",
       "    </tr>\n",
       "    <tr>\n",
       "      <th>50%</th>\n",
       "      <td>100.500000</td>\n",
       "      <td>65.135267</td>\n",
       "    </tr>\n",
       "    <tr>\n",
       "      <th>75%</th>\n",
       "      <td>150.250000</td>\n",
       "      <td>72.504527</td>\n",
       "    </tr>\n",
       "    <tr>\n",
       "      <th>max</th>\n",
       "      <td>200.000000</td>\n",
       "      <td>98.527315</td>\n",
       "    </tr>\n",
       "  </tbody>\n",
       "</table>\n",
       "</div>"
      ],
      "text/plain": [
       "        PatientID       Score\n",
       "count  200.000000  200.000000\n",
       "mean   100.500000   65.267600\n",
       "std     57.879185   11.088616\n",
       "min      1.000000   39.748574\n",
       "25%     50.750000   58.021821\n",
       "50%    100.500000   65.135267\n",
       "75%    150.250000   72.504527\n",
       "max    200.000000   98.527315"
      ]
     },
     "execution_count": 4,
     "metadata": {},
     "output_type": "execute_result"
    }
   ],
   "source": [
    "\n",
    "# Правильный импорт\n",
    "import pandas as pd\n",
    "\n",
    "# Загрузка данных\n",
    "clinical_data = pd.read_csv('clinical_trial_data.csv')\n",
    "\n",
    "# Просмотр первых строк\n",
    "clinical_data.head()\n",
    "\n",
    "# Основная информация о данных\n",
    "clinical_data.info()\n",
    "\n",
    "# Описательная статистика\n",
    "clinical_data.describe()"
   ]
  },
  {
   "cell_type": "markdown",
   "id": "dd5aa4c3",
   "metadata": {},
   "source": [
    "Результат:\n",
    "\n",
    "Среднее: 65.27 ± 11.09 (SD)\n",
    "\n",
    "Медиана: 65.14 (близка к среднему)\n",
    "\n",
    "Диапазон: от 39.75 до 98.53\n",
    "\n",
    "Квартили:\n",
    "\n",
    "25% пациентов: ≤58.02\n",
    "\n",
    "50% пациентов: ≤65.14\n",
    "\n",
    "75% пациентов: ≤72.50\n",
    "Особенности данных\n",
    "Распределение PatientID:\n",
    "\n",
    "Идеально сбалансировано (min=1, max=200, mean=100.5)\n",
    "\n",
    "Свидетельствует о полной выборке без пропусков\n",
    "\n",
    "Показатель Score:\n",
    "\n",
    "Нормальное распределение (mean ≈ median)\n",
    "\n",
    "Возможные легкие правосторонние выбросы (max=98.53 при 75%=72.50)\n",
    "\n",
    "Стандартное отклонение 11.09 указывает на умеренный разброс данных"
   ]
  },
  {
   "cell_type": "markdown",
   "id": "89b9bf19",
   "metadata": {},
   "source": [
    "## Задание 2. Визуальный анализ"
   ]
  },
  {
   "cell_type": "code",
   "execution_count": 5,
   "id": "c720750b",
   "metadata": {},
   "outputs": [
    {
     "name": "stdout",
     "output_type": "stream",
     "text": [
      "Количество пациентов:\n",
      "- Препарат: 100\n",
      "- Плацебо: 100\n"
     ]
    }
   ],
   "source": [
    "# Разделение данных\n",
    "treatment_group = clinical_data[clinical_data['Group'] == 'Drug']['Score']\n",
    "placebo_group = clinical_data[clinical_data['Group'] == 'Placebo']['Score']\n",
    "\n",
    "print(f\"Количество пациентов:\\n- Препарат: {len(treatment_group)}\\n- Плацебо: {len(placebo_group)}\")"
   ]
  },
  {
   "cell_type": "code",
   "execution_count": 6,
   "id": "d5d6ce25",
   "metadata": {},
   "outputs": [
    {
     "data": {
      "image/png": "[encoded data removed]",
      "text/plain": [
       "<Figure size 1000x500 with 1 Axes>"
      ]
     },
     "metadata": {},
     "output_type": "display_data"
    }
   ],
   "source": [
    "import pandas as pd\n",
    "import matplotlib.pyplot as plt\n",
    "import seaborn as sns\n",
    "\n",
    "plt.figure(figsize=(10,5))\n",
    "plt.hist(treatment_group, bins=15, alpha=0.7, label='Препарат')\n",
    "plt.hist(placebo_group, bins=15, alpha=0.7, label='Плацебо')\n",
    "plt.legend()\n",
    "plt.show()"
   ]
  },
  {
   "cell_type": "code",
   "execution_count": 7,
   "id": "d0378b1a",
   "metadata": {},
   "outputs": [
    {
     "name": "stderr",
     "output_type": "stream",
     "text": [
      "C:\\Users\\Huawei\\AppData\\Local\\Temp\\ipykernel_20264\\4055048453.py:3: FutureWarning: \n",
      "\n",
      "Passing `palette` without assigning `hue` is deprecated and will be removed in v0.14.0. Assign the `x` variable to `hue` and set `legend=False` for the same effect.\n",
      "\n",
      "  sns.boxplot(x='Group', y='Score', data=clinical_data,\n"
     ]
    },
    {
     "data": {
      "image/png": "[encoded data removed]",
      "text/plain": [
       "<Figure size 640x480 with 1 Axes>"
      ]
     },
     "metadata": {},
     "output_type": "display_data"
    }
   ],
   "source": [
    "# Boxplot\n",
    "plt.subplot(1, 2, 2)\n",
    "sns.boxplot(x='Group', y='Score', data=clinical_data, \n",
    "            palette={'Drug': 'blue', 'Placebo': 'orange'})\n",
    "plt.title('Сравнение групп: Препарат vs Плацебо')\n",
    "plt.xlabel('Группа')\n",
    "plt.ylabel('Score')\n",
    "\n",
    "plt.tight_layout()\n",
    "plt.show() "
   ]
  },
  {
   "cell_type": "markdown",
   "id": "e2fa1747",
   "metadata": {},
   "source": [
    "Вывод: \n",
    "1. Группа препарата имеет:\n",
    "\n",
    "Сдвиг распределения вправо (более высокие значения Score), что подтверждает эффективность препарата\n",
    "\n",
    "Среднее значение ≈ 68-70 единиц против ≈ 60-62 у плацебо\n",
    "\n",
    "Более широкий разброс значений\n",
    "Препарат работает стабильнее, тк медиана располагается строго по центру\n",
    "\n",
    "2. Группа плацебо имеет:\n",
    "\n",
    "Пик распределения около 60 единиц\n",
    "\n",
    "Несколько экстремально низких значений (<45)\n",
    "\n",
    "Один явный выброс (>98 единиц)"
   ]
  },
  {
   "cell_type": "markdown",
   "id": "7080a0a3",
   "metadata": {},
   "source": [
    "## Задание 3. Математическая статистика и проверка гипотезы"
   ]
  },
  {
   "cell_type": "code",
   "execution_count": 8,
   "id": "401d95a9",
   "metadata": {},
   "outputs": [
    {
     "name": "stdout",
     "output_type": "stream",
     "text": [
      "Препарат: p-value = 0.6181\n",
      "Плацебо: p-value = 0.1522\n"
     ]
    }
   ],
   "source": [
    "# Проверка нормальности распределения (тест Шапиро-Уилка)\n",
    "\n",
    "from scipy import stats\n",
    "\n",
    "# Проверка нормальности для группы препарата\n",
    "shapiro_drug = stats.shapiro(treatment_group)\n",
    "print(f\"Препарат: p-value = {shapiro_drug.pvalue:.4f}\")\n",
    "\n",
    "# Проверка нормальности для группы плацебо\n",
    "shapiro_placebo = stats.shapiro(placebo_group)\n",
    "print(f\"Плацебо: p-value = {shapiro_placebo.pvalue:.4f}\")"
   ]
  },
  {
   "cell_type": "markdown",
   "id": "d0d422e8",
   "metadata": {},
   "source": [
    "p-value > 0.05 → данные распределены нормально"
   ]
  },
  {
   "cell_type": "code",
   "execution_count": 9,
   "id": "07b73f01",
   "metadata": {},
   "outputs": [
    {
     "name": "stdout",
     "output_type": "stream",
     "text": [
      "Тест Левена: p-value = 0.5385\n"
     ]
    }
   ],
   "source": [
    "# Проверка равенства дисперсий (тест Левена)\n",
    "\n",
    "stat, p_levene = stats.levene(treatment_group, placebo_group)\n",
    "print(f\"Тест Левена: p-value = {p_levene:.4f}\")"
   ]
  },
  {
   "cell_type": "markdown",
   "id": "657adccf",
   "metadata": {},
   "source": [
    "дисперсии равны >0.05"
   ]
  },
  {
   "cell_type": "code",
   "execution_count": 10,
   "id": "7ee4e7d8",
   "metadata": {},
   "outputs": [
    {
     "name": "stdout",
     "output_type": "stream",
     "text": [
      "t-тест: p-value = 0.0000\n"
     ]
    }
   ],
   "source": [
    "from scipy import stats\n",
    "\n",
    "# t-тест для независимых выборок\n",
    "t_stat, p_ttest = stats.ttest_ind(treatment_group, placebo_group)\n",
    "print(f\"t-тест: p-value = {p_ttest:.4f}\")"
   ]
  },
  {
   "cell_type": "markdown",
   "id": "f3de1965",
   "metadata": {},
   "source": [
    "p-value ≤ 0.05 → различия статистически значимы.\n",
    "Препарат статистически значимо лучше плацебо, и это не случайность (p < 0.0001)"
   ]
  },
  {
   "cell_type": "code",
   "execution_count": 11,
   "id": "00a2329e",
   "metadata": {},
   "outputs": [
    {
     "name": "stdout",
     "output_type": "stream",
     "text": [
      "Коэна d = 0.91\n"
     ]
    }
   ],
   "source": [
    "# Размер эффекта (Коэна d)\n",
    "\n",
    "import numpy as np\n",
    "\n",
    "def cohen_d(x, y):\n",
    "    n1, n2 = len(x), len(y)\n",
    "    mean_diff = np.mean(x) - np.mean(y)\n",
    "    pooled_std = np.sqrt((n1-1)*np.std(x, ddof=1)**2 + (n2-1)*np.std(y, ddof=1)**2) / np.sqrt(n1 + n2 - 2)\n",
    "    return mean_diff / pooled_std\n",
    "\n",
    "d = cohen_d(treatment_group, placebo_group)\n",
    "print(f\"Коэна d = {d:.2f}\")"
   ]
  },
  {
   "cell_type": "markdown",
   "id": "bc054c61",
   "metadata": {},
   "source": [
    "Эффект большой, разница не только «значимая», но и практически полезная."
   ]
  }
 ],
 "metadata": {
  "kernelspec": {
   "display_name": "Python 3",
   "language": "python",
   "name": "python3"
  },
  "language_info": {
   "codemirror_mode": {
    "name": "ipython",
    "version": 3
   },
   "file_extension": ".py",
   "mimetype": "text/x-python",
   "name": "python",
   "nbconvert_exporter": "python",
   "pygments_lexer": "ipython3",
   "version": "3.12.1"
  }
 },
 "nbformat": 4,
 "nbformat_minor": 5
}
